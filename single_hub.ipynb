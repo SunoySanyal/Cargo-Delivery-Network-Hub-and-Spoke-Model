{
 "cells": [
  {
   "cell_type": "code",
   "execution_count": 1,
   "metadata": {},
   "outputs": [],
   "source": [
    "import math\n",
    "import pandas as pd\n",
    "import numpy as np"
   ]
  },
  {
   "cell_type": "code",
   "execution_count": 2,
   "metadata": {},
   "outputs": [],
   "source": [
    "\n",
    "\n",
    "def extract_parameters_from_excel(file_path):\n",
    "    # Load sheets with specified names, skipping the ID and name columns/rows for matrices\n",
    "    distance_df = pd.read_excel(file_path, sheet_name='Distance (km)').iloc[1:, 2:]\n",
    "    travel_time_df = pd.read_excel(file_path, sheet_name='Travel time (min)').iloc[1:, 2:]\n",
    "    flow_df = pd.read_excel(file_path, sheet_name='Flow').iloc[1:, 2:]\n",
    "    fixed_link_cost_df = pd.read_excel(file_path, sheet_name='Fixed link cost').iloc[1:, 2:]\n",
    "    fixed_hub_cost_df = pd.read_excel(file_path, sheet_name='Fixed hub cost').iloc[:, 2:]\n",
    "    \n",
    "    # Convert distance and travel time dataframes to matrices\n",
    "    distance = distance_df.values\n",
    "    travel_time = travel_time_df.values\n",
    "\n",
    "    # Flow matrix: create nested dictionary to handle directional flow\n",
    "    flow_matrix = flow_df.values   # Use iloc to get the first column's value for the flow\n",
    "\n",
    "    # Fixed link cost: convert to matrix\n",
    "    fixed_link_cost = fixed_link_cost_df.values\n",
    "\n",
    "    # Fixed hub cost: extract city names and costs as a dictionary\n",
    "    fixed_hub_cost = fixed_hub_cost_df.values\n",
    "\n",
    "\n",
    "    return distance, travel_time, flow_matrix, fixed_link_cost, fixed_hub_cost\n"
   ]
  },
  {
   "cell_type": "code",
   "execution_count": 3,
   "metadata": {},
   "outputs": [],
   "source": [
    "file_path = 'Turkish_network.xls'\n",
    "distance, travel_time, flow_matrix, fixed_linked_cost, fixed_hub_cost = extract_parameters_from_excel(file_path)\n"
   ]
  },
  {
   "cell_type": "code",
   "execution_count": 4,
   "metadata": {},
   "outputs": [],
   "source": [
    "\n",
    "def find_hub(I, f, u, d, flows, hubcosts):\n",
    "    min_cost = math.inf\n",
    "    hub = None\n",
    "\n",
    "    f = np.array(f)\n",
    "    u = np.array(u)\n",
    "    d = np.array(d)\n",
    "    flows = np.array(flows)\n",
    "    hubcosts = np.array(hubcosts)\n",
    "    costs = []\n",
    "    for i in I:\n",
    "        inflow_cost = 0\n",
    "        outflow_cost = 0\n",
    "        # Fixed hub cost\n",
    "        fixed_hub_cost = hubcosts[i]\n",
    "\n",
    "        # Calculate inflow_cost\n",
    "        for j in I:\n",
    "            #print(i,j)\n",
    "            if j != i and flows[j][i] > 0:\n",
    "                \n",
    "                inflow_cost += f[j][i] + u[j][i] * d[j][i] * flows[j][i]\n",
    "\n",
    "        # Calculate outflow_cost\n",
    "        for j in I:\n",
    "            if j != i and flows[i][j] > 0:\n",
    "                outflow_cost += f[i][j] + u[i][j] * d[i][j] * flows[i][j]\n",
    "\n",
    "        \n",
    "        # Total cost for hub i\n",
    "        c_i = inflow_cost + outflow_cost + fixed_hub_cost\n",
    "        costs.append(c_i)\n",
    "        if c_i <= min_cost:\n",
    "            min_cost = c_i\n",
    "            hub = i\n",
    "\n",
    "    return hub+1, min_cost, costs\n"
   ]
  },
  {
   "cell_type": "code",
   "execution_count": 5,
   "metadata": {},
   "outputs": [],
   "source": [
    "#u = np.full((81, 81), 1e-4)\n",
    "u = fixed_linked_cost * 1e-3\n",
    "I = np.arange(0,81)\n",
    "fixed_linkage_costs =np.zeros((81,81))\n",
    "hub, min_cost, costs = find_hub(I, fixed_linkage_costs, u, distance, flow_matrix, fixed_hub_cost)"
   ]
  },
  {
   "cell_type": "code",
   "execution_count": 6,
   "metadata": {},
   "outputs": [
    {
     "data": {
      "text/plain": [
       "(38, array([1255409.07619987]))"
      ]
     },
     "execution_count": 6,
     "metadata": {},
     "output_type": "execute_result"
    }
   ],
   "source": [
    "hub, min_cost"
   ]
  },
  {
   "cell_type": "code",
   "execution_count": null,
   "metadata": {},
   "outputs": [],
   "source": []
  }
 ],
 "metadata": {
  "kernelspec": {
   "display_name": "Python 3",
   "language": "python",
   "name": "python3"
  },
  "language_info": {
   "codemirror_mode": {
    "name": "ipython",
    "version": 3
   },
   "file_extension": ".py",
   "mimetype": "text/x-python",
   "name": "python",
   "nbconvert_exporter": "python",
   "pygments_lexer": "ipython3",
   "version": "3.11.9"
  }
 },
 "nbformat": 4,
 "nbformat_minor": 2
}
